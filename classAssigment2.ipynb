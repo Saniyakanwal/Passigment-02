{
  "nbformat": 4,
  "nbformat_minor": 0,
  "metadata": {
    "colab": {
      "provenance": [],
      "authorship_tag": "ABX9TyNZi+DYFVM8SNBgNERMdLv7",
      "include_colab_link": true
    },
    "kernelspec": {
      "name": "python3",
      "display_name": "Python 3"
    },
    "language_info": {
      "name": "python"
    }
  },
  "cells": [
    {
      "cell_type": "markdown",
      "metadata": {
        "id": "view-in-github",
        "colab_type": "text"
      },
      "source": [
        "<a href=\"https://colab.research.google.com/github/Saniyakanwal/Passigment-02/blob/main/classAssigment2.ipynb\" target=\"_parent\"><img src=\"https://colab.research.google.com/assets/colab-badge.svg\" alt=\"Open In Colab\"/></a>"
      ]
    },
    {
      "cell_type": "code",
      "execution_count": null,
      "metadata": {
        "id": "bnkHtFFKPpSh",
        "colab": {
          "base_uri": "https://localhost:8080/"
        },
        "outputId": "68c0d5d3-6a37-41df-c61d-d36e0d890937"
      },
      "outputs": [
        {
          "output_type": "stream",
          "name": "stdout",
          "text": [
            "Enter first number:2\n",
            "Enter second number:2\n",
            "select operator\n",
            "1. Addition\n",
            "2. Subtraction\n",
            "3. Multiplication\n",
            "4. Division\n",
            "Enter choice(1/2/3/4):4\n",
            "Your Answer is 1.0\n"
          ]
        }
      ],
      "source": [
        "# simple calculator\n",
        "num1 = int(input(\"Enter first number:\"))\n",
        "num2 = int(input(\"Enter second number:\"))\n",
        "\n",
        "# select operator\n",
        "print(\"select operator\")\n",
        "print(\"1. Addition\")\n",
        "print(\"2. Subtraction\")\n",
        "print(\"3. Multiplication\")\n",
        "print(\"4. Division\")\n",
        "\n",
        "# select choice number\n",
        "choice = int(input(\"Enter choice(1/2/3/4):\"))\n",
        "\n",
        "# addition\n",
        "if (choice == 1):\n",
        "    print(f\"Your Answer is {num1 + num2}\")\n",
        "\n",
        "# Subtraction\n",
        "elif (choice == 2):\n",
        "    print(f\"Your Answer is {num1 - num2}\")\n",
        "\n",
        "# Multiplication\n",
        "elif (choice == 3):\n",
        "    print(f\"Your Answer is {num1 * num2}\")\n",
        "\n",
        "# Division\n",
        "elif (choice == 4):\n",
        "    print(f\"Your Answer is {num1 / num2}\")\n",
        "\n",
        "else:\n",
        "        print(\"select valid operator\")\n"
      ]
    },
    {
      "cell_type": "code",
      "source": [
        "# Grading system\n",
        "marks = int(input(\"Enter Your Marks: \"))\n",
        "if (marks >= 90):\n",
        "    print(\"Your Grade is A+\")\n",
        "\n",
        "elif (marks >= 70):\n",
        "    print(\"Your Grade is A\")\n",
        "\n",
        "elif (marks >= 60):\n",
        "    print(\"Your Grade is B\")\n",
        "\n",
        "elif (marks >= 50):\n",
        "    print(\"your Grade is C\")\n",
        "\n",
        "elif (marks >= 40):\n",
        "    print(\"Your Grade is D\")\n",
        "\n",
        "else :\n",
        "    print(\" You are Fail\")"
      ],
      "metadata": {
        "colab": {
          "base_uri": "https://localhost:8080/"
        },
        "id": "9CQgy3_9LqQR",
        "outputId": "ca7dacfe-ba57-46d5-bb35-d43a824eb392"
      },
      "execution_count": null,
      "outputs": [
        {
          "output_type": "stream",
          "name": "stdout",
          "text": [
            "Enter Your Marks: 44\n",
            "Your Grade is D\n"
          ]
        }
      ]
    }
  ]
}